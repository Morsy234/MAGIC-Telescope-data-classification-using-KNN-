{
 "cells": [
  {
   "cell_type": "markdown",
   "id": "f55341a6-40b6-4d14-8362-d4a4c3edf916",
   "metadata": {},
   "source": [
    "## Importing Libraries"
   ]
  },
  {
   "cell_type": "code",
   "execution_count": 46,
   "id": "805d5e74-9b09-4d57-9c2c-48c58200f18d",
   "metadata": {},
   "outputs": [],
   "source": [
    "import numpy as np\n",
    "import pandas as pd\n",
    "\n",
    "import matplotlib.pyplot as plt\n"
   ]
  },
  {
   "cell_type": "markdown",
   "id": "9598e9e5-2273-49c3-9b98-ede60d59f761",
   "metadata": {},
   "source": [
    "## Reading Dataset"
   ]
  },
  {
   "cell_type": "code",
   "execution_count": 47,
   "id": "7803f948-48ff-4866-a5a2-d51e105221c1",
   "metadata": {},
   "outputs": [
    {
     "data": {
      "text/html": [
       "<div>\n",
       "<style scoped>\n",
       "    .dataframe tbody tr th:only-of-type {\n",
       "        vertical-align: middle;\n",
       "    }\n",
       "\n",
       "    .dataframe tbody tr th {\n",
       "        vertical-align: top;\n",
       "    }\n",
       "\n",
       "    .dataframe thead th {\n",
       "        text-align: right;\n",
       "    }\n",
       "</style>\n",
       "<table border=\"1\" class=\"dataframe\">\n",
       "  <thead>\n",
       "    <tr style=\"text-align: right;\">\n",
       "      <th></th>\n",
       "      <th>0</th>\n",
       "      <th>1</th>\n",
       "      <th>2</th>\n",
       "      <th>3</th>\n",
       "      <th>4</th>\n",
       "      <th>5</th>\n",
       "      <th>6</th>\n",
       "      <th>7</th>\n",
       "      <th>8</th>\n",
       "      <th>9</th>\n",
       "      <th>10</th>\n",
       "    </tr>\n",
       "  </thead>\n",
       "  <tbody>\n",
       "    <tr>\n",
       "      <th>0</th>\n",
       "      <td>28.7967</td>\n",
       "      <td>16.0021</td>\n",
       "      <td>2.6449</td>\n",
       "      <td>0.3918</td>\n",
       "      <td>0.1982</td>\n",
       "      <td>27.7004</td>\n",
       "      <td>22.0110</td>\n",
       "      <td>-8.2027</td>\n",
       "      <td>40.0920</td>\n",
       "      <td>81.8828</td>\n",
       "      <td>g</td>\n",
       "    </tr>\n",
       "    <tr>\n",
       "      <th>1</th>\n",
       "      <td>31.6036</td>\n",
       "      <td>11.7235</td>\n",
       "      <td>2.5185</td>\n",
       "      <td>0.5303</td>\n",
       "      <td>0.3773</td>\n",
       "      <td>26.2722</td>\n",
       "      <td>23.8238</td>\n",
       "      <td>-9.9574</td>\n",
       "      <td>6.3609</td>\n",
       "      <td>205.2610</td>\n",
       "      <td>g</td>\n",
       "    </tr>\n",
       "    <tr>\n",
       "      <th>2</th>\n",
       "      <td>162.0520</td>\n",
       "      <td>136.0310</td>\n",
       "      <td>4.0612</td>\n",
       "      <td>0.0374</td>\n",
       "      <td>0.0187</td>\n",
       "      <td>116.7410</td>\n",
       "      <td>-64.8580</td>\n",
       "      <td>-45.2160</td>\n",
       "      <td>76.9600</td>\n",
       "      <td>256.7880</td>\n",
       "      <td>g</td>\n",
       "    </tr>\n",
       "    <tr>\n",
       "      <th>3</th>\n",
       "      <td>23.8172</td>\n",
       "      <td>9.5728</td>\n",
       "      <td>2.3385</td>\n",
       "      <td>0.6147</td>\n",
       "      <td>0.3922</td>\n",
       "      <td>27.2107</td>\n",
       "      <td>-6.4633</td>\n",
       "      <td>-7.1513</td>\n",
       "      <td>10.4490</td>\n",
       "      <td>116.7370</td>\n",
       "      <td>g</td>\n",
       "    </tr>\n",
       "    <tr>\n",
       "      <th>4</th>\n",
       "      <td>75.1362</td>\n",
       "      <td>30.9205</td>\n",
       "      <td>3.1611</td>\n",
       "      <td>0.3168</td>\n",
       "      <td>0.1832</td>\n",
       "      <td>-5.5277</td>\n",
       "      <td>28.5525</td>\n",
       "      <td>21.8393</td>\n",
       "      <td>4.6480</td>\n",
       "      <td>356.4620</td>\n",
       "      <td>g</td>\n",
       "    </tr>\n",
       "  </tbody>\n",
       "</table>\n",
       "</div>"
      ],
      "text/plain": [
       "         0         1       2       3       4         5        6        7   \\\n",
       "0   28.7967   16.0021  2.6449  0.3918  0.1982   27.7004  22.0110  -8.2027   \n",
       "1   31.6036   11.7235  2.5185  0.5303  0.3773   26.2722  23.8238  -9.9574   \n",
       "2  162.0520  136.0310  4.0612  0.0374  0.0187  116.7410 -64.8580 -45.2160   \n",
       "3   23.8172    9.5728  2.3385  0.6147  0.3922   27.2107  -6.4633  -7.1513   \n",
       "4   75.1362   30.9205  3.1611  0.3168  0.1832   -5.5277  28.5525  21.8393   \n",
       "\n",
       "        8         9  10  \n",
       "0  40.0920   81.8828  g  \n",
       "1   6.3609  205.2610  g  \n",
       "2  76.9600  256.7880  g  \n",
       "3  10.4490  116.7370  g  \n",
       "4   4.6480  356.4620  g  "
      ]
     },
     "execution_count": 47,
     "metadata": {},
     "output_type": "execute_result"
    }
   ],
   "source": [
    "df = pd.read_csv('magic04.data', sep=',', header=None)\n",
    "df.head()"
   ]
  },
  {
   "cell_type": "markdown",
   "id": "c0296707",
   "metadata": {},
   "source": [
    "- Create two DataFrames, 'g_rows' and 'h_rows', by filtering rows where the last column of the DataFrame ('iloc[:, -1]') is equal to 'g' or 'h'.\n",
    "- Calculate the number of rows in each DataFrame using the shape attribute."
   ]
  },
  {
   "cell_type": "code",
   "execution_count": 48,
   "id": "4f28243b",
   "metadata": {},
   "outputs": [],
   "source": [
    "g_rows = df[df.iloc[:, -1] == 'g']\n",
    "h_rows = df[df.iloc[:, -1] == 'h']"
   ]
  },
  {
   "cell_type": "code",
   "execution_count": 49,
   "id": "098f20c7",
   "metadata": {},
   "outputs": [],
   "source": [
    "g_row_count = g_rows.shape[0] \n",
    "h_row_count = h_rows.shape[0]"
   ]
  },
  {
   "cell_type": "markdown",
   "id": "1300bd6f",
   "metadata": {},
   "source": [
    "- Use Matplotlib to create a bar chart that displays the counts of 'g_rows' and 'h_rows' before data balancing."
   ]
  },
  {
   "cell_type": "code",
   "execution_count": 50,
   "id": "7525e399",
   "metadata": {},
   "outputs": [
    {
     "data": {
      "image/png": "[encoded data removed]",
      "text/plain": [
       "<Figure size 640x480 with 1 Axes>"
      ]
     },
     "metadata": {},
     "output_type": "display_data"
    }
   ],
   "source": [
    "plt.bar(['g_rows', 'h_rows'], [g_row_count, h_row_count], width=0.2)\n",
    "\n",
    "plt.xlabel('Data Sets')\n",
    "plt.ylabel('Row Count')\n",
    "plt.title('Row Counts for g_rows and h_rows before balancing')\n",
    "\n",
    "plt.show()"
   ]
  },
  {
   "cell_type": "markdown",
   "id": "e3c624bf-f22d-4bfb-a11a-a3360829fc66",
   "metadata": {},
   "source": [
    "## Dataset Balancing using pandas"
   ]
  },
  {
   "cell_type": "markdown",
   "id": "9cccc2bc",
   "metadata": {},
   "source": [
    "- Balance the dataset by randomly selecting 'h_row_count' number of rows from 'g_rows' using sample() \n",
    "- Using 'random_state' parameter allows you to set a fixed seed value for the random number generator, which ensures that the random processes produce the same results every time you run your code."
   ]
  },
  {
   "cell_type": "code",
   "execution_count": 51,
   "id": "e1fc2538",
   "metadata": {},
   "outputs": [
    {
     "data": {
      "text/html": [
       "<div>\n",
       "<style scoped>\n",
       "    .dataframe tbody tr th:only-of-type {\n",
       "        vertical-align: middle;\n",
       "    }\n",
       "\n",
       "    .dataframe tbody tr th {\n",
       "        vertical-align: top;\n",
       "    }\n",
       "\n",
       "    .dataframe thead th {\n",
       "        text-align: right;\n",
       "    }\n",
       "</style>\n",
       "<table border=\"1\" class=\"dataframe\">\n",
       "  <thead>\n",
       "    <tr style=\"text-align: right;\">\n",
       "      <th></th>\n",
       "      <th>0</th>\n",
       "      <th>1</th>\n",
       "      <th>2</th>\n",
       "      <th>3</th>\n",
       "      <th>4</th>\n",
       "      <th>5</th>\n",
       "      <th>6</th>\n",
       "      <th>7</th>\n",
       "      <th>8</th>\n",
       "      <th>9</th>\n",
       "      <th>10</th>\n",
       "    </tr>\n",
       "  </thead>\n",
       "  <tbody>\n",
       "    <tr>\n",
       "      <th>8917</th>\n",
       "      <td>41.8269</td>\n",
       "      <td>26.3680</td>\n",
       "      <td>3.0422</td>\n",
       "      <td>0.2350</td>\n",
       "      <td>0.1202</td>\n",
       "      <td>24.1335</td>\n",
       "      <td>40.1360</td>\n",
       "      <td>20.4737</td>\n",
       "      <td>29.3920</td>\n",
       "      <td>173.6130</td>\n",
       "      <td>g</td>\n",
       "    </tr>\n",
       "    <tr>\n",
       "      <th>772</th>\n",
       "      <td>59.0164</td>\n",
       "      <td>18.0200</td>\n",
       "      <td>3.3073</td>\n",
       "      <td>0.2587</td>\n",
       "      <td>0.1422</td>\n",
       "      <td>57.7010</td>\n",
       "      <td>59.9175</td>\n",
       "      <td>15.4044</td>\n",
       "      <td>1.3107</td>\n",
       "      <td>237.6220</td>\n",
       "      <td>g</td>\n",
       "    </tr>\n",
       "    <tr>\n",
       "      <th>12252</th>\n",
       "      <td>15.0205</td>\n",
       "      <td>12.1918</td>\n",
       "      <td>2.3560</td>\n",
       "      <td>0.6608</td>\n",
       "      <td>0.3370</td>\n",
       "      <td>1.9014</td>\n",
       "      <td>-2.0715</td>\n",
       "      <td>3.6258</td>\n",
       "      <td>89.2740</td>\n",
       "      <td>105.2140</td>\n",
       "      <td>g</td>\n",
       "    </tr>\n",
       "    <tr>\n",
       "      <th>7793</th>\n",
       "      <td>51.4720</td>\n",
       "      <td>10.4108</td>\n",
       "      <td>2.5453</td>\n",
       "      <td>0.3276</td>\n",
       "      <td>0.1838</td>\n",
       "      <td>73.5451</td>\n",
       "      <td>17.7028</td>\n",
       "      <td>-7.1886</td>\n",
       "      <td>16.7782</td>\n",
       "      <td>176.5590</td>\n",
       "      <td>g</td>\n",
       "    </tr>\n",
       "    <tr>\n",
       "      <th>6601</th>\n",
       "      <td>25.3814</td>\n",
       "      <td>15.7361</td>\n",
       "      <td>2.6186</td>\n",
       "      <td>0.4188</td>\n",
       "      <td>0.2419</td>\n",
       "      <td>27.8332</td>\n",
       "      <td>17.8775</td>\n",
       "      <td>5.4552</td>\n",
       "      <td>10.1725</td>\n",
       "      <td>80.3929</td>\n",
       "      <td>g</td>\n",
       "    </tr>\n",
       "  </tbody>\n",
       "</table>\n",
       "</div>"
      ],
      "text/plain": [
       "            0        1       2       3       4        5        6        7   \\\n",
       "8917   41.8269  26.3680  3.0422  0.2350  0.1202  24.1335  40.1360  20.4737   \n",
       "772    59.0164  18.0200  3.3073  0.2587  0.1422  57.7010  59.9175  15.4044   \n",
       "12252  15.0205  12.1918  2.3560  0.6608  0.3370   1.9014  -2.0715   3.6258   \n",
       "7793   51.4720  10.4108  2.5453  0.3276  0.1838  73.5451  17.7028  -7.1886   \n",
       "6601   25.3814  15.7361  2.6186  0.4188  0.2419  27.8332  17.8775   5.4552   \n",
       "\n",
       "            8         9  10  \n",
       "8917   29.3920  173.6130  g  \n",
       "772     1.3107  237.6220  g  \n",
       "12252  89.2740  105.2140  g  \n",
       "7793   16.7782  176.5590  g  \n",
       "6601   10.1725   80.3929  g  "
      ]
     },
     "execution_count": 51,
     "metadata": {},
     "output_type": "execute_result"
    }
   ],
   "source": [
    "new_g_rows = g_rows.sample(h_row_count ,random_state=42) \n",
    "new_g_rows_count = new_g_rows.shape[0]\n",
    "\n",
    "new_g_rows.head()"
   ]
  },
  {
   "cell_type": "markdown",
   "id": "87c97bab",
   "metadata": {},
   "source": [
    "- Chart to show the counts of 'new_g_rows' and 'h_rows' after balancing."
   ]
  },
  {
   "cell_type": "code",
   "execution_count": 52,
   "id": "5c55c25d",
   "metadata": {},
   "outputs": [
    {
     "data": {
      "image/png": "[encoded data removed]",
      "text/plain": [
       "<Figure size 640x480 with 1 Axes>"
      ]
     },
     "metadata": {},
     "output_type": "display_data"
    }
   ],
   "source": [
    "plt.bar(['g_rows', 'h_rows'], [new_g_rows_count, h_row_count], width=0.2)\n",
    "\n",
    "plt.xlabel('Data Sets')\n",
    "plt.ylabel('Row Count')\n",
    "plt.title('Row Counts for g_rows and h_rows after balancing')\n",
    "\n",
    "plt.show()"
   ]
  },
  {
   "cell_type": "markdown",
   "id": "f2476708",
   "metadata": {},
   "source": [
    "-  Concatenate 'new_g_rows' and 'h_rows' to create a new balanced DataFrame 'new_df'."
   ]
  },
  {
   "cell_type": "code",
   "execution_count": 53,
   "id": "e8fdab9d",
   "metadata": {},
   "outputs": [],
   "source": [
    "new_df = pd.concat([new_g_rows,h_rows ],axis=0)"
   ]
  },
  {
   "cell_type": "code",
   "execution_count": 54,
   "id": "4f2fba80",
   "metadata": {},
   "outputs": [
    {
     "data": {
      "text/html": [
       "<div>\n",
       "<style scoped>\n",
       "    .dataframe tbody tr th:only-of-type {\n",
       "        vertical-align: middle;\n",
       "    }\n",
       "\n",
       "    .dataframe tbody tr th {\n",
       "        vertical-align: top;\n",
       "    }\n",
       "\n",
       "    .dataframe thead th {\n",
       "        text-align: right;\n",
       "    }\n",
       "</style>\n",
       "<table border=\"1\" class=\"dataframe\">\n",
       "  <thead>\n",
       "    <tr style=\"text-align: right;\">\n",
       "      <th></th>\n",
       "      <th>0</th>\n",
       "      <th>1</th>\n",
       "      <th>2</th>\n",
       "      <th>3</th>\n",
       "      <th>4</th>\n",
       "      <th>5</th>\n",
       "      <th>6</th>\n",
       "      <th>7</th>\n",
       "      <th>8</th>\n",
       "      <th>9</th>\n",
       "      <th>10</th>\n",
       "    </tr>\n",
       "  </thead>\n",
       "  <tbody>\n",
       "    <tr>\n",
       "      <th>8917</th>\n",
       "      <td>41.8269</td>\n",
       "      <td>26.3680</td>\n",
       "      <td>3.0422</td>\n",
       "      <td>0.2350</td>\n",
       "      <td>0.1202</td>\n",
       "      <td>24.1335</td>\n",
       "      <td>40.1360</td>\n",
       "      <td>20.4737</td>\n",
       "      <td>29.3920</td>\n",
       "      <td>173.6130</td>\n",
       "      <td>g</td>\n",
       "    </tr>\n",
       "    <tr>\n",
       "      <th>772</th>\n",
       "      <td>59.0164</td>\n",
       "      <td>18.0200</td>\n",
       "      <td>3.3073</td>\n",
       "      <td>0.2587</td>\n",
       "      <td>0.1422</td>\n",
       "      <td>57.7010</td>\n",
       "      <td>59.9175</td>\n",
       "      <td>15.4044</td>\n",
       "      <td>1.3107</td>\n",
       "      <td>237.6220</td>\n",
       "      <td>g</td>\n",
       "    </tr>\n",
       "    <tr>\n",
       "      <th>12252</th>\n",
       "      <td>15.0205</td>\n",
       "      <td>12.1918</td>\n",
       "      <td>2.3560</td>\n",
       "      <td>0.6608</td>\n",
       "      <td>0.3370</td>\n",
       "      <td>1.9014</td>\n",
       "      <td>-2.0715</td>\n",
       "      <td>3.6258</td>\n",
       "      <td>89.2740</td>\n",
       "      <td>105.2140</td>\n",
       "      <td>g</td>\n",
       "    </tr>\n",
       "    <tr>\n",
       "      <th>7793</th>\n",
       "      <td>51.4720</td>\n",
       "      <td>10.4108</td>\n",
       "      <td>2.5453</td>\n",
       "      <td>0.3276</td>\n",
       "      <td>0.1838</td>\n",
       "      <td>73.5451</td>\n",
       "      <td>17.7028</td>\n",
       "      <td>-7.1886</td>\n",
       "      <td>16.7782</td>\n",
       "      <td>176.5590</td>\n",
       "      <td>g</td>\n",
       "    </tr>\n",
       "    <tr>\n",
       "      <th>6601</th>\n",
       "      <td>25.3814</td>\n",
       "      <td>15.7361</td>\n",
       "      <td>2.6186</td>\n",
       "      <td>0.4188</td>\n",
       "      <td>0.2419</td>\n",
       "      <td>27.8332</td>\n",
       "      <td>17.8775</td>\n",
       "      <td>5.4552</td>\n",
       "      <td>10.1725</td>\n",
       "      <td>80.3929</td>\n",
       "      <td>g</td>\n",
       "    </tr>\n",
       "  </tbody>\n",
       "</table>\n",
       "</div>"
      ],
      "text/plain": [
       "            0        1       2       3       4        5        6        7   \\\n",
       "8917   41.8269  26.3680  3.0422  0.2350  0.1202  24.1335  40.1360  20.4737   \n",
       "772    59.0164  18.0200  3.3073  0.2587  0.1422  57.7010  59.9175  15.4044   \n",
       "12252  15.0205  12.1918  2.3560  0.6608  0.3370   1.9014  -2.0715   3.6258   \n",
       "7793   51.4720  10.4108  2.5453  0.3276  0.1838  73.5451  17.7028  -7.1886   \n",
       "6601   25.3814  15.7361  2.6186  0.4188  0.2419  27.8332  17.8775   5.4552   \n",
       "\n",
       "            8         9  10  \n",
       "8917   29.3920  173.6130  g  \n",
       "772     1.3107  237.6220  g  \n",
       "12252  89.2740  105.2140  g  \n",
       "7793   16.7782  176.5590  g  \n",
       "6601   10.1725   80.3929  g  "
      ]
     },
     "execution_count": 54,
     "metadata": {},
     "output_type": "execute_result"
    }
   ],
   "source": [
    "new_df.head()"
   ]
  },
  {
   "cell_type": "markdown",
   "id": "ffb89a09-762c-476b-b82e-6319b0e9383e",
   "metadata": {},
   "source": [
    "## Data Split"
   ]
  },
  {
   "cell_type": "markdown",
   "id": "cfd73c66",
   "metadata": {},
   "source": [
    "- Split the data into features (X) and labels (y).\n",
    "- Then split the data into training, validation, and testing sets.\n",
    "- 'X_train' and 'y_train' will be used for training your machine learning model with size 70% of the data.\n",
    "- 'X_val' and 'y_val' will be used for validating and fine-tuning your model with size 15% of the data.\n",
    "- 'X_test' and 'y_test' will be used for evaluating the final model's performance with size 15% of the data.\n"
   ]
  },
  {
   "cell_type": "code",
   "execution_count": 55,
   "id": "d28268da",
   "metadata": {},
   "outputs": [],
   "source": [
    "X = new_df.iloc[: , :-1].values\n",
    "y = new_df.iloc[: , -1].values"
   ]
  },
  {
   "cell_type": "code",
   "execution_count": 56,
   "id": "5cc77ed5",
   "metadata": {},
   "outputs": [],
   "source": [
    "from sklearn.model_selection import train_test_split\n",
    "\n",
    "X_train, X_temp, y_train, y_temp = train_test_split(X, y, test_size=0.3, random_state=42)\n",
    "X_val, X_test, y_val, y_test = train_test_split(X_temp, y_temp, test_size=0.5, random_state=42)"
   ]
  },
  {
   "cell_type": "markdown",
   "id": "7f89bb61",
   "metadata": {},
   "source": [
    "## Feature Scaling\n",
    "- Different features in your dataset may have different scales and units.Feature scaling is an essential preprocessing step in many machine learning algorithms to ensure that all features (variables) have similar scales. \n",
    "- The 'StandardScaler' performs a specific type of feature scaling called standardization or (Z-Normalization). Standardization transforms the data such that it has a mean of 0 and a standard deviation of 1. It's done by subtracting the mean and dividing by the standard deviation for each feature."
   ]
  },
  {
   "cell_type": "code",
   "execution_count": 57,
   "id": "98941c44",
   "metadata": {},
   "outputs": [],
   "source": [
    "from sklearn.discriminant_analysis import StandardScaler\n",
    "\n",
    "sc = StandardScaler()\n",
    "\n",
    "X_train = sc.fit_transform(X_train)\n",
    "\n",
    "X_val = sc.transform(X_val)\n",
    "X_test = sc.transform(X_test)\n",
    "\n"
   ]
  },
  {
   "cell_type": "code",
   "execution_count": 58,
   "id": "c252c840",
   "metadata": {},
   "outputs": [
    {
     "data": {
      "text/plain": [
       "13376"
      ]
     },
     "execution_count": 58,
     "metadata": {},
     "output_type": "execute_result"
    }
   ],
   "source": [
    "len(new_df)"
   ]
  },
  {
   "cell_type": "markdown",
   "id": "f109b3cb-b2a0-4ec4-a3e7-b1efb4b2f941",
   "metadata": {},
   "source": [
    "## KNN\n",
    "\n",
    "- Apply KNN model on your data using 'KNeighborsClassifier' with the specified number of neighbors (k) and use the Euclidean distance metric.\n",
    "- Return the following performance measures:\n",
    "\n",
    "    - 1-Accuracy:\n",
    "\n",
    "        - Measures overall correctness of the model's predictions and indicates how well the model classifies instances correctly.\n",
    "        - It is the ratio of correct predictions to total predictions.\n",
    "\n",
    "    \n",
    "    \n",
    "    - 2-Precision:\n",
    "\n",
    "        - Focuses on positive class accuracy as it measures the accuracy of the positive predictions made by the model.\n",
    "        - It is the ratio of true positives to (true positives + false positives).\n",
    "        - Important when minimizing false positives (e.g., medical diagnosis).\n",
    "        \n",
    "\n",
    "    - 3-Recall:\n",
    "\n",
    "        - Measures the model's ability to identify all relevant instances in the dataset.\n",
    "        - It is the ratio of true positives to (true positives + false negatives).\n",
    "        - Critical when minimizing false negatives (e.g., disease identification).\n",
    "\n",
    "\n",
    "    - 4-F1 Score:\n",
    "\n",
    "        - Harmonic mean of precision and recall.\n",
    "        - It provides a single metric that balances precision and recall.\n",
    "        - Useful when finding a trade-off between precision and recall is necessary, especially with imbalanced data.\n",
    "\n",
    "\n",
    "    - 5-Confusion Matrix:\n",
    "\n",
    "        - A confusion matrix is a table that is often used to describe the performance of the classification model.\n",
    "        - It provides a detailed breakdown of the model's predictions, including true positives, true negatives, false positives, and false negatives.\n",
    "\n"
   ]
  },
  {
   "cell_type": "code",
   "execution_count": 59,
   "id": "845b8acb",
   "metadata": {},
   "outputs": [],
   "source": [
    "from sklearn.metrics import accuracy_score,precision_score,recall_score,f1_score,confusion_matrix,ConfusionMatrixDisplay\n",
    "from sklearn.neighbors import KNeighborsClassifier\n",
    "    \n",
    "def KNN(k, train_X,train_y,test_X,test_y):\n",
    "    knn = KNeighborsClassifier(n_neighbors=k,metric='euclidean')\n",
    "    knn.fit(train_X,train_y)\n",
    "    pred = knn.predict(test_X)\n",
    "\n",
    "    accuracy = accuracy_score(test_y,pred)    \n",
    "    precision = precision_score(test_y,pred , pos_label='g')\n",
    "    recall = recall_score(test_y, pred, pos_label='g')\n",
    "    f1 = f1_score(test_y, pred, pos_label='g')\n",
    "    conf_matrix = confusion_matrix(test_y,pred)\n",
    "\n",
    "    result = {'k': k , 'accuracy' : accuracy , 'precision' : precision , 'conf_matrix' : conf_matrix , \n",
    "                   'recall' : recall , 'f1_score' : f1 }\n",
    "    return result"
   ]
  },
  {
   "cell_type": "markdown",
   "id": "2b1e7cb5",
   "metadata": {},
   "source": [
    "-  Store the results of KNN classification for different values of 'k' in 'k_scores'."
   ]
  },
  {
   "cell_type": "code",
   "execution_count": 60,
   "id": "753f2d21",
   "metadata": {},
   "outputs": [],
   "source": [
    "k_scores = []\n",
    "for i in range(1,115,2):\n",
    "    k_result = KNN(i,X_train,y_train,X_val,y_val)\n",
    "    k_scores.append(k_result)\n"
   ]
  },
  {
   "cell_type": "markdown",
   "id": "c02a647a-4297-43f1-b2df-7be9d8d5d8ad",
   "metadata": {},
   "source": [
    "##  Performance measures\n",
    "\n",
    "- Find the KNN result with the highest accuracy.\n",
    "- Print the best 'k' value and the corresponding accuracy, precision, recall, and F1 score.\n",
    "- Plot its confusion matrix."
   ]
  },
  {
   "cell_type": "code",
   "execution_count": 61,
   "id": "aa3b70ae",
   "metadata": {},
   "outputs": [
    {
     "name": "stdout",
     "output_type": "stream",
     "text": [
      "K : 15\n",
      "Accuracy : 0.820\n",
      "Precision : 0.779\n",
      "Recall : 0.898\n",
      "f1_score : 0.834\n",
      "Confusion Matrix : \n",
      "[[911 103]\n",
      " [259 733]]\n"
     ]
    },
    {
     "data": {
      "image/png": "[encoded data removed]",
      "text/plain": [
       "<Figure size 640x480 with 2 Axes>"
      ]
     },
     "metadata": {},
     "output_type": "display_data"
    }
   ],
   "source": [
    "best_k_scores = max(k_scores, key=lambda x: x['accuracy'])\n",
    "print(f\"K : {best_k_scores['k']}\")\n",
    "print(f\"Accuracy : {best_k_scores['accuracy']:.3f}\")\n",
    "print(f\"Precision : {best_k_scores['precision']:.3f}\")\n",
    "print(f\"Recall : {best_k_scores['recall']:.3f}\")\n",
    "print(f\"f1_score : {best_k_scores['f1_score']:.3f}\")\n",
    "print(\"Confusion Matrix : \")\n",
    "print(best_k_scores['conf_matrix'])\n",
    "ConfusionMatrixDisplay(best_k_scores['conf_matrix']).plot()\n",
    "plt.show()"
   ]
  },
  {
   "cell_type": "markdown",
   "id": "283abe10-3de0-4d85-a11c-745d962c2643",
   "metadata": {},
   "source": [
    "## Comparing performance measures for diffrent k values \n",
    "- Create line plots for accuracy, precision, recall, and F1 score as a function of 'k'.\n",
    "\n",
    "- Display the plot to compare how different 'k' values affect these performance metrics."
   ]
  },
  {
   "cell_type": "code",
   "execution_count": 62,
   "id": "6d9b9210",
   "metadata": {},
   "outputs": [
    {
     "data": {
      "image/png": "[encoded data removed]",
      "text/plain": [
       "<Figure size 800x800 with 1 Axes>"
      ]
     },
     "metadata": {},
     "output_type": "display_data"
    }
   ],
   "source": [
    "k_values = [item['k'] for item in k_scores]\n",
    "accuracy_values = [item['accuracy'] for item in k_scores]\n",
    "precision_values = [item['precision'] for item in k_scores]\n",
    "recall_values = [item['recall'] for item in k_scores]\n",
    "f1_score_values = [item['f1_score'] for item in k_scores]\n",
    "\n",
    "plt.figure(figsize=(8, 8))\n",
    "\n",
    "# Plot accuracy\n",
    "plt.plot(k_values, accuracy_values, label='Accuracy', marker='o', linestyle='-')\n",
    "\n",
    "# Plot precision\n",
    "plt.plot(k_values, precision_values, label='Precision', marker='o', linestyle='-')\n",
    "\n",
    "# Plot recall\n",
    "plt.plot(k_values, recall_values, label='Recall', marker='o', linestyle='-')\n",
    "\n",
    "# Plot F1-score\n",
    "plt.plot(k_values, f1_score_values, label='F1 Score', marker='o', linestyle='-')\n",
    "\n",
    "plt.title('Metrics vs. k')\n",
    "plt.xlabel('k')\n",
    "plt.grid(True)\n",
    "\n",
    "plt.legend()\n",
    "\n",
    "plt.show()"
   ]
  },
  {
   "cell_type": "code",
   "execution_count": 63,
   "id": "50acf516",
   "metadata": {},
   "outputs": [],
   "source": [
    "knn_model = KNeighborsClassifier(n_neighbors=best_k_scores['k'],metric='euclidean')"
   ]
  },
  {
   "cell_type": "markdown",
   "id": "02cb4c81-e997-4977-b6bd-e8fe959110a0",
   "metadata": {},
   "source": [
    "## Testing\n",
    "- Using the best 'k' value to perform KNN classification on the test set and print the testing results"
   ]
  },
  {
   "cell_type": "code",
   "execution_count": 64,
   "id": "8d4b280a",
   "metadata": {},
   "outputs": [
    {
     "name": "stdout",
     "output_type": "stream",
     "text": [
      "Testing Result:  {'k': 15, 'accuracy': 0.8236173393124065, 'precision': 0.7798634812286689, 'conf_matrix': array([[914,  96],\n",
      "       [258, 739]], dtype=int64), 'recall': 0.904950495049505, 'f1_score': 0.837763519706691}\n"
     ]
    }
   ],
   "source": [
    "testing_result = KNN(best_k_scores['k'], X_train,y_train,X_test,y_test)\n",
    "print(\"Testing Result: \", testing_result)"
   ]
  }
 ],
 "metadata": {
  "kernelspec": {
   "display_name": "Python 3 (ipykernel)",
   "language": "python",
   "name": "python3"
  },
  "language_info": {
   "codemirror_mode": {
    "name": "ipython",
    "version": 3
   },
   "file_extension": ".py",
   "mimetype": "text/x-python",
   "name": "python",
   "nbconvert_exporter": "python",
   "pygments_lexer": "ipython3",
   "version": "3.11.5"
  }
 },
 "nbformat": 4,
 "nbformat_minor": 5
}
